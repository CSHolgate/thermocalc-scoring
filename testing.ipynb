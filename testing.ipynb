{
 "cells": [
  {
   "cell_type": "code",
   "execution_count": 1,
   "metadata": {},
   "outputs": [],
   "source": [
    "import numpy as np "
   ]
  },
  {
   "cell_type": "code",
   "execution_count": 7,
   "metadata": {},
   "outputs": [
    {
     "data": {
      "text/plain": [
       "array([ 373.15,  573.15,  773.15, 1073.15, 1273.15, 1373.15, 1423.15,\n",
       "       1473.15, 1523.15, 1573.15, 1623.15, 1673.15, 1723.15, 1773.15,\n",
       "       1823.15, 1873.15, 1923.15, 1973.15, 2023.15, 2073.15, 2123.15,\n",
       "       2173.15, 2223.15, 2273.15])"
      ]
     },
     "execution_count": 7,
     "metadata": {},
     "output_type": "execute_result"
    }
   ],
   "source": [
    "np.append(np.array([100, 300, 500, 800, 1000])+273.15, np.arange(1100,2050,50)+273.15)"
   ]
  },
  {
   "cell_type": "code",
   "execution_count": 1,
   "metadata": {},
   "outputs": [],
   "source": [
    "import pandas as pd"
   ]
  },
  {
   "cell_type": "code",
   "execution_count": 3,
   "metadata": {},
   "outputs": [],
   "source": [
    "from itertools import combinations"
   ]
  },
  {
   "cell_type": "code",
   "execution_count": 21,
   "metadata": {},
   "outputs": [],
   "source": [
    "crit = pd.read_csv('./tchea7-criticalassessedternaries.csv')\n",
    "tent = pd.read_csv('./tchea7-tentativeassessedternaries.csv')"
   ]
  },
  {
   "cell_type": "code",
   "execution_count": 6,
   "metadata": {},
   "outputs": [],
   "source": [
    "test = ['Al', 'Nb', 'Si', 'Ti', 'Hf']\n",
    "combos = list(combinations(test,3))"
   ]
  },
  {
   "cell_type": "code",
   "execution_count": 8,
   "metadata": {},
   "outputs": [
    {
     "name": "stdout",
     "output_type": "stream",
     "text": [
      "('Al', 'Nb', 'Si')\n",
      "('Al', 'Nb', 'Ti')\n",
      "('Al', 'Nb', 'Hf')\n",
      "('Al', 'Si', 'Ti')\n",
      "('Al', 'Si', 'Hf')\n",
      "('Al', 'Ti', 'Hf')\n",
      "('Nb', 'Si', 'Ti')\n",
      "('Nb', 'Si', 'Hf')\n",
      "('Nb', 'Ti', 'Hf')\n",
      "('Si', 'Ti', 'Hf')\n"
     ]
    }
   ],
   "source": [
    "for combo in combos:\n",
    "    print(combo)"
   ]
  },
  {
   "cell_type": "code",
   "execution_count": 9,
   "metadata": {},
   "outputs": [
    {
     "data": {
      "text/html": [
       "<div>\n",
       "<style scoped>\n",
       "    .dataframe tbody tr th:only-of-type {\n",
       "        vertical-align: middle;\n",
       "    }\n",
       "\n",
       "    .dataframe tbody tr th {\n",
       "        vertical-align: top;\n",
       "    }\n",
       "\n",
       "    .dataframe thead th {\n",
       "        text-align: right;\n",
       "    }\n",
       "</style>\n",
       "<table border=\"1\" class=\"dataframe\">\n",
       "  <thead>\n",
       "    <tr style=\"text-align: right;\">\n",
       "      <th></th>\n",
       "      <th>System</th>\n",
       "      <th>Element1</th>\n",
       "      <th>Element2</th>\n",
       "      <th>Element3</th>\n",
       "    </tr>\n",
       "  </thead>\n",
       "  <tbody>\n",
       "    <tr>\n",
       "      <th>0</th>\n",
       "      <td>Al-B-Ti</td>\n",
       "      <td>Al</td>\n",
       "      <td>B</td>\n",
       "      <td>Ti</td>\n",
       "    </tr>\n",
       "    <tr>\n",
       "      <th>1</th>\n",
       "      <td>Al-C-Co</td>\n",
       "      <td>Al</td>\n",
       "      <td>C</td>\n",
       "      <td>Co</td>\n",
       "    </tr>\n",
       "    <tr>\n",
       "      <th>2</th>\n",
       "      <td>Al-C-Fe</td>\n",
       "      <td>Al</td>\n",
       "      <td>C</td>\n",
       "      <td>Fe</td>\n",
       "    </tr>\n",
       "    <tr>\n",
       "      <th>3</th>\n",
       "      <td>Al-Co-Ni</td>\n",
       "      <td>Al</td>\n",
       "      <td>Co</td>\n",
       "      <td>Ni</td>\n",
       "    </tr>\n",
       "    <tr>\n",
       "      <th>4</th>\n",
       "      <td>Al-Co-Ti</td>\n",
       "      <td>Al</td>\n",
       "      <td>Co</td>\n",
       "      <td>Ti</td>\n",
       "    </tr>\n",
       "    <tr>\n",
       "      <th>...</th>\n",
       "      <td>...</td>\n",
       "      <td>...</td>\n",
       "      <td>...</td>\n",
       "      <td>...</td>\n",
       "    </tr>\n",
       "    <tr>\n",
       "      <th>207</th>\n",
       "      <td>Ta-Ti-Zr</td>\n",
       "      <td>Ta</td>\n",
       "      <td>Ti</td>\n",
       "      <td>Zr</td>\n",
       "    </tr>\n",
       "    <tr>\n",
       "      <th>208</th>\n",
       "      <td>Ti-V-W</td>\n",
       "      <td>Ti</td>\n",
       "      <td>V</td>\n",
       "      <td>W</td>\n",
       "    </tr>\n",
       "    <tr>\n",
       "      <th>209</th>\n",
       "      <td>Ti-V-Zr</td>\n",
       "      <td>Ti</td>\n",
       "      <td>V</td>\n",
       "      <td>Zr</td>\n",
       "    </tr>\n",
       "    <tr>\n",
       "      <th>210</th>\n",
       "      <td>Ti-W-Zr</td>\n",
       "      <td>Ti</td>\n",
       "      <td>W</td>\n",
       "      <td>Zr</td>\n",
       "    </tr>\n",
       "    <tr>\n",
       "      <th>211</th>\n",
       "      <td>V-W-Zr</td>\n",
       "      <td>V</td>\n",
       "      <td>W</td>\n",
       "      <td>Zr</td>\n",
       "    </tr>\n",
       "  </tbody>\n",
       "</table>\n",
       "<p>212 rows × 4 columns</p>\n",
       "</div>"
      ],
      "text/plain": [
       "       System Element1 Element2 Element3\n",
       "0     Al-B-Ti       Al        B       Ti\n",
       "1     Al-C-Co       Al        C       Co\n",
       "2     Al-C-Fe       Al        C       Fe\n",
       "3    Al-Co-Ni       Al       Co       Ni\n",
       "4    Al-Co-Ti       Al       Co       Ti\n",
       "..        ...      ...      ...      ...\n",
       "207  Ta-Ti-Zr       Ta       Ti       Zr\n",
       "208    Ti-V-W       Ti        V        W\n",
       "209   Ti-V-Zr       Ti        V       Zr\n",
       "210   Ti-W-Zr       Ti        W       Zr\n",
       "211    V-W-Zr        V        W       Zr\n",
       "\n",
       "[212 rows x 4 columns]"
      ]
     },
     "execution_count": 9,
     "metadata": {},
     "output_type": "execute_result"
    }
   ],
   "source": [
    "crit"
   ]
  },
  {
   "cell_type": "code",
   "execution_count": 10,
   "metadata": {},
   "outputs": [
    {
     "data": {
      "text/plain": [
       "('Al', 'Nb', 'Si')"
      ]
     },
     "execution_count": 10,
     "metadata": {},
     "output_type": "execute_result"
    }
   ],
   "source": [
    "combos[0]"
   ]
  },
  {
   "cell_type": "code",
   "execution_count": 18,
   "metadata": {},
   "outputs": [
    {
     "data": {
      "text/plain": [
       "{'Al', 'Nb', 'Si'}"
      ]
     },
     "execution_count": 18,
     "metadata": {},
     "output_type": "execute_result"
    }
   ],
   "source": [
    "set(combos[0])"
   ]
  },
  {
   "cell_type": "code",
   "execution_count": 11,
   "metadata": {},
   "outputs": [
    {
     "data": {
      "text/plain": [
       "'Al'"
      ]
     },
     "execution_count": 11,
     "metadata": {},
     "output_type": "execute_result"
    }
   ],
   "source": [
    "combos[0][0]"
   ]
  },
  {
   "cell_type": "code",
   "execution_count": 12,
   "metadata": {},
   "outputs": [
    {
     "data": {
      "text/plain": [
       "10"
      ]
     },
     "execution_count": 12,
     "metadata": {},
     "output_type": "execute_result"
    }
   ],
   "source": [
    "len(combos)"
   ]
  },
  {
   "cell_type": "code",
   "execution_count": null,
   "metadata": {},
   "outputs": [],
   "source": [
    "# df[df[['Element1', 'Element2', 'Element3']].isin([elem1]).any(axis=1)]"
   ]
  },
  {
   "cell_type": "code",
   "execution_count": null,
   "metadata": {},
   "outputs": [],
   "source": [
    "for alloy in range(0,len(combos)):\n",
    "        crit[crit[['Element1', 'Element2', 'Element3']].isin([element]).any(axis=1)]"
   ]
  },
  {
   "cell_type": "code",
   "execution_count": 17,
   "metadata": {},
   "outputs": [
    {
     "data": {
      "text/plain": [
       "0      True\n",
       "1      True\n",
       "2      True\n",
       "3      True\n",
       "4      True\n",
       "       ... \n",
       "207    True\n",
       "208    True\n",
       "209    True\n",
       "210    True\n",
       "211    True\n",
       "Length: 212, dtype: bool"
      ]
     },
     "execution_count": 17,
     "metadata": {},
     "output_type": "execute_result"
    }
   ],
   "source": [
    "tse = crit[crit[['Element1', 'Element2', 'Element3']].isin(combos[0])].all(axis=1)\n",
    "tse"
   ]
  },
  {
   "cell_type": "code",
   "execution_count": 19,
   "metadata": {},
   "outputs": [],
   "source": [
    "def check_elements_in_df(df, elements_tuple):\n",
    "    elements_set = set(elements_tuple)\n",
    "    for idx, row in df.iterrows():\n",
    "        row_elements = set([row['Element1'], row['Element2'], row['Element3']])\n",
    "        if row_elements == elements_set:\n",
    "            return True\n",
    "    return False"
   ]
  },
  {
   "cell_type": "code",
   "execution_count": 25,
   "metadata": {},
   "outputs": [
    {
     "ename": "TypeError",
     "evalue": "'bool' object is not iterable",
     "output_type": "error",
     "traceback": [
      "\u001b[0;31m---------------------------------------------------------------------------\u001b[0m",
      "\u001b[0;31mTypeError\u001b[0m                                 Traceback (most recent call last)",
      "\u001b[1;32m/Users/collin/Library/CloudStorage/Box-Box/0My Stuff/Papers/NLP-CalPhaD/Thermo-CalcAndScoring/testing.ipynb Cell 17\u001b[0m line \u001b[0;36m2\n\u001b[1;32m      <a href='vscode-notebook-cell:/Users/collin/Library/CloudStorage/Box-Box/0My%20Stuff/Papers/NLP-CalPhaD/Thermo-CalcAndScoring/testing.ipynb#X24sZmlsZQ%3D%3D?line=0'>1</a>\u001b[0m \u001b[39mfor\u001b[39;00m combo \u001b[39min\u001b[39;00m combos:\n\u001b[0;32m----> <a href='vscode-notebook-cell:/Users/collin/Library/CloudStorage/Box-Box/0My%20Stuff/Papers/NLP-CalPhaD/Thermo-CalcAndScoring/testing.ipynb#X24sZmlsZQ%3D%3D?line=1'>2</a>\u001b[0m     \u001b[39msum\u001b[39;49m(check_elements_in_df(crit, combo))\n",
      "\u001b[0;31mTypeError\u001b[0m: 'bool' object is not iterable"
     ]
    }
   ],
   "source": [
    "count = []\n",
    "for combo in combos:\n",
    "    sum(check_elements_in_df(crit, combo))"
   ]
  },
  {
   "cell_type": "code",
   "execution_count": null,
   "metadata": {},
   "outputs": [],
   "source": []
  }
 ],
 "metadata": {
  "kernelspec": {
   "display_name": "arpa",
   "language": "python",
   "name": "python3"
  },
  "language_info": {
   "codemirror_mode": {
    "name": "ipython",
    "version": 3
   },
   "file_extension": ".py",
   "mimetype": "text/x-python",
   "name": "python",
   "nbconvert_exporter": "python",
   "pygments_lexer": "ipython3",
   "version": "3.10.8"
  }
 },
 "nbformat": 4,
 "nbformat_minor": 2
}
